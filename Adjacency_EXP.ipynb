{
 "cells": [
  {
   "cell_type": "markdown",
   "metadata": {
    "heading_collapsed": true
   },
   "source": [
    "## Dependencies"
   ]
  },
  {
   "cell_type": "code",
   "execution_count": 1,
   "metadata": {
    "hidden": true
   },
   "outputs": [],
   "source": [
    "import torch\n",
    "import torch.nn as nn"
   ]
  },
  {
   "cell_type": "code",
   "execution_count": 2,
   "metadata": {
    "hidden": true
   },
   "outputs": [],
   "source": [
    "import easydict\n",
    "from random import randint\n",
    "from itertools import permutations"
   ]
  },
  {
   "cell_type": "markdown",
   "metadata": {
    "heading_collapsed": true
   },
   "source": [
    "## Hyperparams"
   ]
  },
  {
   "cell_type": "code",
   "execution_count": 3,
   "metadata": {
    "hidden": true
   },
   "outputs": [],
   "source": [
    "EMBD_DIM = 7\n",
    "OUT_DIM = 4\n",
    "BATCH = 10\n",
    "N = 3"
   ]
  },
  {
   "cell_type": "markdown",
   "metadata": {},
   "source": [
    "# Concept Vocabulary"
   ]
  },
  {
   "cell_type": "code",
   "execution_count": 4,
   "metadata": {},
   "outputs": [],
   "source": [
    "def to_glove(token):\n",
    "    return torch.rand(EMBD_DIM)"
   ]
  },
  {
   "cell_type": "markdown",
   "metadata": {},
   "source": [
    "### Dummy data"
   ]
  },
  {
   "cell_type": "code",
   "execution_count": 5,
   "metadata": {},
   "outputs": [],
   "source": [
    "property_types = ['color', 'material']\n",
    "\n",
    "property_concepts = {\n",
    "    'color': ['red', 'green', 'blue'],\n",
    "    'material': ['cloth', 'rubber']\n",
    "}\n",
    "\n",
    "state_identities = ['cat', 'shirt']\n",
    "\n",
    "relationships = ['holding', 'behind']"
   ]
  },
  {
   "cell_type": "markdown",
   "metadata": {},
   "source": [
    "## Preparation"
   ]
  },
  {
   "cell_type": "code",
   "execution_count": 6,
   "metadata": {},
   "outputs": [],
   "source": [
    "# each property has a type\n",
    "L = len(property_types)\n",
    "\n",
    "# we add identity and relations in idx 0 and L+1 respectively (TODO: with those names?)\n",
    "property_types = ['identity'] + property_types\n",
    "property_types += ['relations']\n",
    "property_concepts['identity'] = state_identities\n",
    "property_concepts['relations'] = relationships\n",
    "\n",
    "D = torch.stack([to_glove(property_type) for property_type in property_types])"
   ]
  },
  {
   "cell_type": "code",
   "execution_count": 7,
   "metadata": {},
   "outputs": [],
   "source": [
    "# each property has a series of concepts asociated\n",
    "# ordered_C is separated by property, C includes all concepts.\n",
    "ordered_C = [\n",
    "    torch.stack([to_glove(concept) for concept in property_concepts[property]])\n",
    "    for property in property_types\n",
    "]\n",
    "C = torch.cat(ordered_C, dim=0)\n",
    "\n",
    "# we add c' for non structural words (@ idx -1)\n",
    "# TODO: c' initialization?\n",
    "c_prime = torch.rand(1, EMBD_DIM, requires_grad=True)\n",
    "C = torch.cat([C, c_prime], dim=0)"
   ]
  },
  {
   "cell_type": "markdown",
   "metadata": {},
   "source": [
    "# Scene Graph"
   ]
  },
  {
   "cell_type": "markdown",
   "metadata": {},
   "source": [
    "### Dummy data"
   ]
  },
  {
   "cell_type": "code",
   "execution_count": 8,
   "metadata": {},
   "outputs": [],
   "source": [
    "nodes = ['kitten', 'person', 'shirt']\n",
    "\n",
    "relations = {\n",
    "    ('person', 'shirt'): 'wear',\n",
    "    ('person', 'kitten'): 'holding',\n",
    "    ('kitten', 'shirt'): 'bite'\n",
    "}"
   ]
  },
  {
   "cell_type": "markdown",
   "metadata": {},
   "source": [
    "## Preparation"
   ]
  },
  {
   "cell_type": "code",
   "execution_count": 9,
   "metadata": {},
   "outputs": [],
   "source": [
    "# for simplicity: random state initialization of properties (TODO)\n",
    "S = torch.rand(BATCH, len(nodes), L+1, EMBD_DIM)"
   ]
  },
  {
   "cell_type": "code",
   "execution_count": 10,
   "metadata": {},
   "outputs": [],
   "source": [
    "# build adjacency matrix (TODO: now all graphs are same)\n",
    "# the edge features e' are inserted into an adjacency matrix for eficiency\n",
    "adjacency_mask = torch.zeros(BATCH, len(nodes), len(nodes))\n",
    "E = torch.zeros(BATCH, len(nodes), len(nodes), EMBD_DIM)\n",
    "for idx_pair in permutations(range(len(nodes)), 2):\n",
    "    pair = tuple(nodes[idx] for idx in idx_pair)\n",
    "    if pair in relations:\n",
    "        E[:,idx_pair[0],idx_pair[1]] = torch.rand(EMBD_DIM)   # (TODO)\n",
    "        adjacency_mask[:,idx_pair[0],idx_pair[1]] = 1"
   ]
  },
  {
   "cell_type": "code",
   "execution_count": 90,
   "metadata": {},
   "outputs": [],
   "source": [
    "# alternatively we can use hybrid tensors to reduce memory and computation overhead\n",
    "indices = []\n",
    "values = []\n",
    "for idx_pair in permutations(range(len(nodes)), 2):\n",
    "    pair = tuple(nodes[idx] for idx in idx_pair)\n",
    "    if pair in relations:\n",
    "        indices.append(idx_pair)\n",
    "        values.append(torch.rand(EMBD_DIM))\n",
    "\n",
    "sparse_adj = torch.sparse.FloatTensor(\n",
    "    torch.LongTensor(indices).t(), \n",
    "    torch.stack(values),\n",
    "    (len(nodes), len(nodes), EMBD_DIM)\n",
    ")"
   ]
  },
  {
   "cell_type": "code",
   "execution_count": 82,
   "metadata": {},
   "outputs": [
    {
     "data": {
      "text/plain": [
       "torch.Size([3, 3, 7])"
      ]
     },
     "execution_count": 82,
     "metadata": {},
     "output_type": "execute_result"
    }
   ],
   "source": [
    "sparse_adj.shape"
   ]
  },
  {
   "cell_type": "code",
   "execution_count": 83,
   "metadata": {},
   "outputs": [
    {
     "data": {
      "text/plain": [
       "torch.Size([2, 3])"
      ]
     },
     "execution_count": 83,
     "metadata": {},
     "output_type": "execute_result"
    }
   ],
   "source": [
    "sparse_adj.coalesce().indices().shape"
   ]
  },
  {
   "cell_type": "code",
   "execution_count": 84,
   "metadata": {},
   "outputs": [
    {
     "data": {
      "text/plain": [
       "torch.Size([3, 7])"
      ]
     },
     "execution_count": 84,
     "metadata": {},
     "output_type": "execute_result"
    }
   ],
   "source": [
    "sparse_adj.coalesce().values().shape"
   ]
  },
  {
   "cell_type": "code",
   "execution_count": 85,
   "metadata": {},
   "outputs": [
    {
     "data": {
      "text/plain": [
       "True"
      ]
     },
     "execution_count": 85,
     "metadata": {},
     "output_type": "execute_result"
    }
   ],
   "source": [
    "3*3*7 > (2*3) + (3*7)"
   ]
  },
  {
   "cell_type": "code",
   "execution_count": 91,
   "metadata": {},
   "outputs": [
    {
     "ename": "AttributeError",
     "evalue": "'Tensor' object has no attribute 'resizeAs_'",
     "output_type": "error",
     "traceback": [
      "\u001b[0;31m-------------------------------------------------------------------\u001b[0m",
      "\u001b[0;31mAttributeError\u001b[0m                    Traceback (most recent call last)",
      "\u001b[0;32m<ipython-input-91-eb0cc702275e>\u001b[0m in \u001b[0;36m<module>\u001b[0;34m\u001b[0m\n\u001b[0;32m----> 1\u001b[0;31m \u001b[0msparse_adj\u001b[0m\u001b[0;34m.\u001b[0m\u001b[0mresizeAs_\u001b[0m\u001b[0;34m(\u001b[0m\u001b[0;34m)\u001b[0m\u001b[0;34m\u001b[0m\u001b[0;34m\u001b[0m\u001b[0m\n\u001b[0m",
      "\u001b[0;31mAttributeError\u001b[0m: 'Tensor' object has no attribute 'resizeAs_'"
     ]
    }
   ],
   "source": [
    "sparse_adj.resizeAs_()"
   ]
  },
  {
   "cell_type": "code",
   "execution_count": null,
   "metadata": {},
   "outputs": [],
   "source": []
  }
 ],
 "metadata": {
  "jupytext": {
   "formats": "ipynb,py:light"
  },
  "kernelspec": {
   "display_name": "Python 3",
   "language": "python",
   "name": "python3"
  },
  "language_info": {
   "codemirror_mode": {
    "name": "ipython",
    "version": 3
   },
   "file_extension": ".py",
   "mimetype": "text/x-python",
   "name": "python",
   "nbconvert_exporter": "python",
   "pygments_lexer": "ipython3",
   "version": "3.7.3"
  },
  "latex_envs": {
   "LaTeX_envs_menu_present": true,
   "autoclose": false,
   "autocomplete": true,
   "bibliofile": "biblio.bib",
   "cite_by": "apalike",
   "current_citInitial": 1,
   "eqLabelWithNumbers": true,
   "eqNumInitial": 1,
   "hotkeys": {
    "equation": "Ctrl-E",
    "itemize": "Ctrl-I"
   },
   "labels_anchors": false,
   "latex_user_defs": false,
   "report_style_numbering": false,
   "user_envs_cfg": false
  },
  "toc": {
   "base_numbering": 1,
   "nav_menu": {},
   "number_sections": true,
   "sideBar": true,
   "skip_h1_title": false,
   "title_cell": "Table of Contents",
   "title_sidebar": "Contents",
   "toc_cell": false,
   "toc_position": {},
   "toc_section_display": true,
   "toc_window_display": false
  },
  "varInspector": {
   "cols": {
    "lenName": 16,
    "lenType": 16,
    "lenVar": 40
   },
   "kernels_config": {
    "python": {
     "delete_cmd_postfix": "",
     "delete_cmd_prefix": "del ",
     "library": "var_list.py",
     "varRefreshCmd": "print(var_dic_list())"
    },
    "r": {
     "delete_cmd_postfix": ") ",
     "delete_cmd_prefix": "rm(",
     "library": "var_list.r",
     "varRefreshCmd": "cat(var_dic_list()) "
    }
   },
   "types_to_exclude": [
    "module",
    "function",
    "builtin_function_or_method",
    "instance",
    "_Feature"
   ],
   "window_display": false
  }
 },
 "nbformat": 4,
 "nbformat_minor": 2
}
